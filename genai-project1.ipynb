import google.generativeai as genai
genai.configure(api_key="XXXXX")

model = genai.GenerativeModel("gemini-2.5-flash-preview-04-17")

response = model.generate_content("Can you build summarisation table between ai vs gen ai vs agentic ai") 
print(response.text)

import pathlib
import textwrap

import google.generativeai as genai

from IPython.display import display
from IPython.display import Markdown

def to_markdown(text):
    text = text.replace('*',' *')
    return Markdown(textwrap.indent(text, '>', predicate=lambda _: True))
import pathlib
import textwrap

import google.generativeai as genai

from IPython.display import display
from IPython.display import Markdown

def to_markdown(text):
    text = text.replace('*',' *')
    return Markdown(textwrap.indent(text, '>', predicate=lambda _: True))


for m in genai.list_models():
    if 'generateContent' in m.supported_generation_methods:
        print(m.name)
model= genai.GenerativeModel('models/gemini-2.5-flash-preview-05-20')


import PIL.Image
img = PIL.Image.open(r'C:\Swapna\Learning\PYTHON\FS DataScience\GenAI\pic.jpg')
img

response = model.generate_content(img)
to_markdown(response.text)
